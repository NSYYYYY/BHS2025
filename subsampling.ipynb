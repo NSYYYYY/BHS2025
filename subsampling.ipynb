{
 "cells": [
  {
   "cell_type": "code",
   "execution_count": 2,
   "id": "d8850dc0",
   "metadata": {},
   "outputs": [],
   "source": [
    "import pandas as pd\n",
    "\n",
    "# Load the full dataset\n",
    "file_path = r\"F:\\New folder\\NTU\\Semester\\MBE Paper\\Workspace BHS\\clean data\\cog_comp_t1_full.csv\"\n",
    "df = pd.read_csv(file_path)\n",
    "\n",
    "# Subsample 1000 participants randomly\n",
    "df_subsample = df.sample(n=1000, random_state=42)\n",
    "df_remainder = df.drop(df_subsample.index)\n",
    "\n",
    "# Save the subsample to a new CSV file\n",
    "subsample_path = r\"F:\\New folder\\NTU\\Semester\\MBE Paper\\Workspace BHS\\clean data\\cog_comp_t1_subsample.csv\"\n",
    "df_subsample.to_csv(subsample_path, index=False)\n",
    "\n",
    "# Save the remainder to the same folder\n",
    "remainder_path = r\"F:\\New folder\\NTU\\Semester\\MBE Paper\\Workspace BHS\\clean data\\cog_comp_t1_subsample_remainder.csv\"\n",
    "df_remainder.to_csv(remainder_path, index=False)"
   ]
  }
 ],
 "metadata": {
  "kernelspec": {
   "display_name": "base",
   "language": "python",
   "name": "python3"
  },
  "language_info": {
   "codemirror_mode": {
    "name": "ipython",
    "version": 3
   },
   "file_extension": ".py",
   "mimetype": "text/x-python",
   "name": "python",
   "nbconvert_exporter": "python",
   "pygments_lexer": "ipython3",
   "version": "3.12.7"
  }
 },
 "nbformat": 4,
 "nbformat_minor": 5
}
